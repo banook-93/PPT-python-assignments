{
 "cells": [
  {
   "cell_type": "code",
   "execution_count": 2,
   "metadata": {},
   "outputs": [
    {
     "name": "stdout",
     "output_type": "stream",
     "text": [
      "5\n",
      "3\n",
      "3\n"
     ]
    }
   ],
   "source": [
    "# calculate highest frequency word length \n",
    "def highest_frequency_word_length(string):\n",
    "    \n",
    "    # split the string into words\n",
    "    words = string.split()\n",
    "    \n",
    "    # create a dictionary to store the frequency of each word\n",
    "    frequency = {}\n",
    "    for word in words:\n",
    "        if word in frequency:\n",
    "            frequency[word] += 1\n",
    "        else:\n",
    "            frequency[word] = 1\n",
    "    \n",
    "    # find the highest frequency\n",
    "    maxFrequency = max(frequency.values())\n",
    "    \n",
    "    # find the length of the highest-frequency word\n",
    "    for word, freq in frequency.items():\n",
    "        if freq == maxFrequency:\n",
    "            return len(word)\n",
    "\n",
    "# Test case 1\n",
    "string1 = \"write write write all the number from from from 1 to 100\"\n",
    "print(highest_frequency_word_length(string1))\n",
    "\n",
    "# Test case 2\n",
    "string2 = \"the cat in the hat sat on the mat\"\n",
    "print(highest_frequency_word_length(string2))\n",
    "\n",
    "# Test case 3\n",
    "string3 = \"the quick brown fox jumps over the lazy dog\"\n",
    "print(highest_frequency_word_length(string3))"
   ]
  },
  {
   "cell_type": "code",
   "execution_count": 1,
   "metadata": {},
   "outputs": [
    {
     "name": "stdout",
     "output_type": "stream",
     "text": [
      "Reinitialized existing Git repository in C:/Users/Microsoft/Desktop/PPT assignments Python/.git/\n"
     ]
    },
    {
     "name": "stderr",
     "output_type": "stream",
     "text": [
      "warning: in the working copy of '.ipynb_checkpoints/Python7-checkpoint.ipynb', LF will be replaced by CRLF the next time Git touches it\n",
      "warning: in the working copy of 'Python7.ipynb', LF will be replaced by CRLF the next time Git touches it\n",
      "warning: in the working copy of '.ipynb_checkpoints/Python1-checkpoint.ipynb', LF will be replaced by CRLF the next time Git touches it\n",
      "warning: in the working copy of 'Python1.ipynb', LF will be replaced by CRLF the next time Git touches it\n"
     ]
    },
    {
     "name": "stdout",
     "output_type": "stream",
     "text": [
      "[master efedadb] Initial commit\n",
      " 4 files changed, 320 insertions(+)\n",
      " create mode 100644 .ipynb_checkpoints/Python1-checkpoint.ipynb\n",
      " create mode 100644 Python1.ipynb\n"
     ]
    },
    {
     "name": "stderr",
     "output_type": "stream",
     "text": [
      "error: remote origin already exists.\n",
      "remote: Resolving deltas:   0% (0/2)        \n",
      "remote: Resolving deltas:  50% (1/2)        \n",
      "remote: Resolving deltas: 100% (2/2)        \n",
      "remote: Resolving deltas: 100% (2/2), completed with 2 local objects.        \n",
      "To https://github.com/banook-93/PPT-python-assignments.git\n",
      "   5541466..efedadb  master -> master\n"
     ]
    }
   ],
   "source": [
    "!git config --global user.email \"tjb5561@hotmail.com\"\n",
    "!git config --global user.name \"banook-93\"\n",
    "\n",
    "\n",
    "!git init\n",
    "!git add .\n",
    "\n",
    "# Commit the changes\n",
    "!git commit -m \"Initial commit\"\n",
    "\n",
    "!git remote add origin https://github.com/banook-93/PPT-python-assignments.git\n",
    "\n",
    "# Pushing the code to the remote repository\n",
    "!git push origin master"
   ]
  },
  {
   "cell_type": "code",
   "execution_count": null,
   "metadata": {},
   "outputs": [],
   "source": []
  }
 ],
 "metadata": {
  "kernelspec": {
   "display_name": "Python 3",
   "language": "python",
   "name": "python3"
  },
  "language_info": {
   "codemirror_mode": {
    "name": "ipython",
    "version": 3
   },
   "file_extension": ".py",
   "mimetype": "text/x-python",
   "name": "python",
   "nbconvert_exporter": "python",
   "pygments_lexer": "ipython3",
   "version": "3.8.5"
  }
 },
 "nbformat": 4,
 "nbformat_minor": 4
}
