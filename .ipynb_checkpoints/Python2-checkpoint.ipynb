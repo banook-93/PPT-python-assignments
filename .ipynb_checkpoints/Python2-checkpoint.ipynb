{
 "cells": [
  {
   "cell_type": "code",
   "execution_count": 1,
   "metadata": {},
   "outputs": [],
   "source": [
    "# check if string is valid or not\n",
    "def is_valid_string(s):\n",
    "    \"\"\"Checks the frequency of characters\n",
    "       input: string\n",
    "       returns: returns YES or NO depending on whether string got valid on condition\"\"\"\n",
    "    \n",
    "    \n",
    "    # create a dictionary to store the frequency of each character\n",
    "    frequency = {}\n",
    "    for char in s:\n",
    "        if char in frequency:\n",
    "            frequency[char] += 1\n",
    "        else:\n",
    "            frequency[char] = 1\n",
    "    \n",
    "    # create a set to store the unique frequencies\n",
    "    unique_frequencies = set(frequency.values())\n",
    "    \n",
    "    # if there is only one unique frequency, the string is valid\n",
    "    if len(unique_frequencies) == 1:\n",
    "        return \"YES\"\n",
    "    \n",
    "    # if there are two unique frequencies, check if we can remove one character to make the string valid\n",
    "    elif len(unique_frequencies) == 2:\n",
    "        # get the two frequencies\n",
    "        freq1, freq2 = unique_frequencies\n",
    "        \n",
    "        # if one of the frequencies occurs only once, we can remove that character to make the string valid\n",
    "        if (freq1 == 1 and list(frequency.values()).count(freq1) == 1) or (freq2 == 1 and list(frequency.values()).count(freq2) == 1):\n",
    "            return \"YES\"\n",
    "        \n",
    "    # otherwise, the string is not valid\n",
    "    return \"NO\""
   ]
  },
  {
   "cell_type": "code",
   "execution_count": 3,
   "metadata": {},
   "outputs": [
    {
     "name": "stdout",
     "output_type": "stream",
     "text": [
      "YES\n"
     ]
    }
   ],
   "source": [
    "# Test case 1\n",
    "s = \"aabbcc\"\n",
    "print(is_valid_string(s))"
   ]
  },
  {
   "cell_type": "code",
   "execution_count": 4,
   "metadata": {},
   "outputs": [
    {
     "name": "stdout",
     "output_type": "stream",
     "text": [
      "NO\n"
     ]
    }
   ],
   "source": [
    "# Test case 2\n",
    "s = \"abcc\"\n",
    "print(is_valid_string(s))"
   ]
  },
  {
   "cell_type": "code",
   "execution_count": null,
   "metadata": {},
   "outputs": [],
   "source": []
  }
 ],
 "metadata": {
  "kernelspec": {
   "display_name": "Python 3",
   "language": "python",
   "name": "python3"
  },
  "language_info": {
   "codemirror_mode": {
    "name": "ipython",
    "version": 3
   },
   "file_extension": ".py",
   "mimetype": "text/x-python",
   "name": "python",
   "nbconvert_exporter": "python",
   "pygments_lexer": "ipython3",
   "version": "3.8.5"
  }
 },
 "nbformat": 4,
 "nbformat_minor": 4
}
