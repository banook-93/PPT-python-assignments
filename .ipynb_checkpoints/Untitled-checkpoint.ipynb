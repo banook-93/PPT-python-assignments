{
 "cells": [
  {
   "cell_type": "code",
   "execution_count": 1,
   "metadata": {},
   "outputs": [
    {
     "name": "stdout",
     "output_type": "stream",
     "text": [
      "Data downloaded, converted, and saved to pokemon_data.xlsx.\n"
     ]
    }
   ],
   "source": [
    "import requests\n",
    "import json\n",
    "import pandas as pd\n",
    "\n",
    "def download_and_convert_data(url):\n",
    "    # Download the data from the provided link\n",
    "    response = requests.get(url)\n",
    "    data = response.json()\n",
    "\n",
    "    # Create lists to store the extracted data\n",
    "    ids = []\n",
    "    nums = []\n",
    "    names = []\n",
    "    images = []\n",
    "    types = []\n",
    "    heights = []\n",
    "    weights = []\n",
    "    candies = []\n",
    "    candy_counts = []\n",
    "    eggs = []\n",
    "    spawn_chances = []\n",
    "    avg_spawns = []\n",
    "    spawn_times = []\n",
    "    weaknesses = []\n",
    "    next_evolutions = []\n",
    "    prev_evolutions = []\n",
    "\n",
    "    # Extract data from each Pokémon entry\n",
    "    for pokemon in data[\"pokemon\"]:\n",
    "        # Extract attributes from the Pokémon entry\n",
    "        ids.append(pokemon[\"id\"])\n",
    "        nums.append(pokemon[\"num\"])\n",
    "        names.append(pokemon[\"name\"])\n",
    "        images.append(pokemon[\"img\"])\n",
    "        types.append(\", \".join(pokemon[\"type\"]))\n",
    "        heights.append(pokemon[\"height\"])\n",
    "        weights.append(pokemon[\"weight\"])\n",
    "        candies.append(pokemon.get(\"candy\", \"\"))\n",
    "        candy_counts.append(pokemon.get(\"candy_count\", \"\"))\n",
    "        eggs.append(pokemon.get(\"egg\", \"\"))\n",
    "        spawn_chances.append(pokemon.get(\"spawn_chance\", \"\"))\n",
    "        avg_spawns.append(pokemon.get(\"avg_spawns\", \"\"))\n",
    "        spawn_times.append(pokemon.get(\"spawn_time\", \"\"))\n",
    "        weaknesses.append(\", \".join(pokemon.get(\"weaknesses\", [])))\n",
    "\n",
    "        # Extract next evolution information\n",
    "        next_evolution = pokemon.get(\"next_evolution\", [])\n",
    "        next_evolution_names = [evo.get(\"name\", \"\") for evo in next_evolution]\n",
    "        next_evolutions.append(\", \".join(next_evolution_names))\n",
    "\n",
    "        # Extract previous evolution information\n",
    "        prev_evolution = pokemon.get(\"prev_evolution\", [])\n",
    "        prev_evolution_names = [evo.get(\"name\", \"\") for evo in prev_evolution]\n",
    "        prev_evolutions.append(\", \".join(prev_evolution_names))\n",
    "\n",
    "    # Create a DataFrame to store the extracted data\n",
    "    df = pd.DataFrame({\n",
    "        \"ID\": ids,\n",
    "        \"Number\": nums,\n",
    "        \"Name\": names,\n",
    "        \"Image\": images,\n",
    "        \"Type\": types,\n",
    "        \"Height\": heights,\n",
    "        \"Weight\": weights,\n",
    "        \"Candy\": candies,\n",
    "        \"Candy Count\": candy_counts,\n",
    "        \"Egg\": eggs,\n",
    "        \"Spawn Chance\": spawn_chances,\n",
    "        \"Average Spawns\": avg_spawns,\n",
    "        \"Spawn Time\": spawn_times,\n",
    "        \"Weaknesses\": weaknesses,\n",
    "        \"Next Evolution\": next_evolutions,\n",
    "        \"Previous Evolution\": prev_evolutions\n",
    "    })\n",
    "\n",
    "    # Save the DataFrame to an Excel file\n",
    "    excel_filename = \"pokemon_data.xlsx\"\n",
    "    df.to_excel(excel_filename, index=False)\n",
    "\n",
    "    return excel_filename\n",
    "\n",
    "\n",
    "url = \"https://raw.githubusercontent.com/Biuni/PokemonGO-Pokedex/master/pokedex.json\"\n",
    "excel_file = download_and_convert_data(url)\n",
    "print(f\"Data downloaded, converted, and saved to {excel_file}.\")\n"
   ]
  },
  {
   "cell_type": "code",
   "execution_count": 2,
   "metadata": {},
   "outputs": [
    {
     "name": "stdout",
     "output_type": "stream",
     "text": [
      "Reinitialized existing Git repository in C:/Users/Microsoft/Desktop/PPT assignments Python/.git/\n"
     ]
    },
    {
     "name": "stderr",
     "output_type": "stream",
     "text": [
      "warning: in the working copy of 'Untitled.ipynb', LF will be replaced by CRLF the next time Git touches it\n"
     ]
    },
    {
     "name": "stdout",
     "output_type": "stream",
     "text": [
      "[master ec9c216] Initial commit\n",
      " 2 files changed, 2 insertions(+), 33 deletions(-)\n"
     ]
    },
    {
     "name": "stderr",
     "output_type": "stream",
     "text": [
      "error: remote origin already exists.\n",
      "remote: Resolving deltas:   0% (0/2)        \n",
      "remote: Resolving deltas:  50% (1/2)        \n",
      "remote: Resolving deltas: 100% (2/2)        \n",
      "remote: Resolving deltas: 100% (2/2), done.        \n",
      "remote: \n",
      "remote: Create a pull request for 'master' on GitHub by visiting:        \n",
      "remote:      https://github.com/banook-93/PPT-python-assignments/pull/new/master        \n",
      "remote: \n",
      "To https://github.com/banook-93/PPT-python-assignments.git\n",
      " * [new branch]      master -> master\n"
     ]
    }
   ],
   "source": [
    "!git config --global user.email \"tjb5561@hotmail.com\"\n",
    "!git config --global user.name \"banook-93\"\n",
    "\n",
    "\n",
    "!git init\n",
    "!git add .\n",
    "\n",
    "# Commit the changes\n",
    "!git commit -m \"Initial commit\"\n",
    "\n",
    "!git remote add origin https://github.com/banook-93/PPT-python-assignments.git\n",
    "\n",
    "# Pushing the code to the remote repository\n",
    "!git push origin master\n"
   ]
  },
  {
   "cell_type": "code",
   "execution_count": null,
   "metadata": {},
   "outputs": [],
   "source": []
  }
 ],
 "metadata": {
  "kernelspec": {
   "display_name": "Python 3",
   "language": "python",
   "name": "python3"
  },
  "language_info": {
   "codemirror_mode": {
    "name": "ipython",
    "version": 3
   },
   "file_extension": ".py",
   "mimetype": "text/x-python",
   "name": "python",
   "nbconvert_exporter": "python",
   "pygments_lexer": "ipython3",
   "version": "3.8.5"
  }
 },
 "nbformat": 4,
 "nbformat_minor": 4
}
