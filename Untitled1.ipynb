{
 "cells": [
  {
   "cell_type": "code",
   "execution_count": 3,
   "metadata": {},
   "outputs": [
    {
     "name": "stdout",
     "output_type": "stream",
     "text": [
      "Data downloaded, converted, and saved to meteorite_data.csv.\n"
     ]
    }
   ],
   "source": [
    "import requests\n",
    "import json\n",
    "import csv\n",
    "\n",
    "def download_and_convert_data(url):\n",
    "    # Download the data from the provided link\n",
    "    response = requests.get(url)\n",
    "    data = response.json()\n",
    "\n",
    "    # Creating a list to store the processed data\n",
    "    processed_data = []\n",
    "\n",
    "    # Process and structure the data\n",
    "    for meteorite in data:\n",
    "        processed_meteorite = {\n",
    "            \"Name of Earth Meteorite\": meteorite.get(\"name\", \"\"),\n",
    "            \"ID of Earth Meteorite\": meteorite.get(\"id\", \"\"),\n",
    "            \"nametype\": meteorite.get(\"nametype\", \"\"),\n",
    "            \"recclass\": meteorite.get(\"recclass\", \"\"),\n",
    "            \"mass\": float(meteorite.get(\"mass (g)\", 0)),\n",
    "            \"year\": meteorite.get(\"year\", \"\"),\n",
    "            \"reclat\": float(meteorite.get(\"reclat\", 0.0)),\n",
    "            \"reclong\": float(meteorite.get(\"reclong\", 0.0)),\n",
    "            \"coordinates\": [float(meteorite.get(\"reclat\", 0.0)), float(meteorite.get(\"reclong\", 0.0))]\n",
    "        }\n",
    "        processed_data.append(processed_meteorite)\n",
    "\n",
    "    # CSV filename\n",
    "    csv_filename = \"meteorite_data.csv\"\n",
    "\n",
    "    # Write the processed data to a CSV file with UTF-8 encoding\n",
    "    with open(csv_filename, \"w\", newline=\"\", encoding=\"utf-8\") as csvfile:\n",
    "        fieldnames = processed_data[0].keys()\n",
    "        writer = csv.DictWriter(csvfile, fieldnames=fieldnames)\n",
    "        writer.writeheader()\n",
    "        writer.writerows(processed_data)\n",
    "\n",
    "    return csv_filename\n",
    "\n",
    "\n",
    "url = \"https://data.nasa.gov/resource/y77d-th95.json\"\n",
    "csv_file = download_and_convert_data(url)\n",
    "print(f\"Data downloaded, converted, and saved to {csv_file}.\")\n"
   ]
  },
  {
   "cell_type": "code",
   "execution_count": 4,
   "metadata": {},
   "outputs": [
    {
     "name": "stdout",
     "output_type": "stream",
     "text": [
      "Reinitialized existing Git repository in C:/Users/Microsoft/Desktop/PPT assignments Python/.git/\n"
     ]
    },
    {
     "name": "stderr",
     "output_type": "stream",
     "text": [
      "warning: in the working copy of 'Untitled.ipynb', LF will be replaced by CRLF the next time Git touches it\n",
      "warning: in the working copy of '.ipynb_checkpoints/Python3-checkpoint.ipynb', LF will be replaced by CRLF the next time Git touches it\n",
      "warning: in the working copy of '.ipynb_checkpoints/Untitled1-checkpoint.ipynb', LF will be replaced by CRLF the next time Git touches it\n",
      "warning: in the working copy of 'Python3.ipynb', LF will be replaced by CRLF the next time Git touches it\n",
      "warning: in the working copy of 'Untitled1.ipynb', LF will be replaced by CRLF the next time Git touches it\n"
     ]
    },
    {
     "name": "stdout",
     "output_type": "stream",
     "text": [
      "[master bc57afe] Initial commit\n",
      " 6 files changed, 1238 insertions(+), 3 deletions(-)\n",
      " create mode 100644 .ipynb_checkpoints/Python3-checkpoint.ipynb\n",
      " create mode 100644 .ipynb_checkpoints/Untitled1-checkpoint.ipynb\n",
      " create mode 100644 Python3.ipynb\n",
      " create mode 100644 Untitled1.ipynb\n",
      " create mode 100644 meteorite_data.csv\n"
     ]
    },
    {
     "name": "stderr",
     "output_type": "stream",
     "text": [
      "error: remote origin already exists.\n",
      "remote: Resolving deltas:   0% (0/1)        \n",
      "remote: Resolving deltas: 100% (1/1)        \n",
      "remote: Resolving deltas: 100% (1/1), completed with 1 local object.        \n",
      "To https://github.com/banook-93/PPT-python-assignments.git\n",
      "   ec9c216..bc57afe  master -> master\n"
     ]
    }
   ],
   "source": [
    "!git config --global user.email \"tjb5561@hotmail.com\"\n",
    "!git config --global user.name \"banook-93\"\n",
    "\n",
    "\n",
    "!git init\n",
    "!git add .\n",
    "\n",
    "# Commit the changes\n",
    "!git commit -m \"Initial commit\"\n",
    "\n",
    "!git remote add origin https://github.com/banook-93/PPT-python-assignments.git\n",
    "\n",
    "# Pushing the code to the remote repository\n",
    "!git push origin master"
   ]
  },
  {
   "cell_type": "code",
   "execution_count": null,
   "metadata": {},
   "outputs": [],
   "source": []
  }
 ],
 "metadata": {
  "kernelspec": {
   "display_name": "Python 3",
   "language": "python",
   "name": "python3"
  },
  "language_info": {
   "codemirror_mode": {
    "name": "ipython",
    "version": 3
   },
   "file_extension": ".py",
   "mimetype": "text/x-python",
   "name": "python",
   "nbconvert_exporter": "python",
   "pygments_lexer": "ipython3",
   "version": "3.8.5"
  }
 },
 "nbformat": 4,
 "nbformat_minor": 4
}
